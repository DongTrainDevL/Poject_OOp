{
 "cells": [
  {
   "cell_type": "markdown",
   "metadata": {},
   "source": [
    "## เริ่มต้นทำบอท TicTacToe ด้วย Python อย่างง่าย (เพื่อการทดลองฟังก์ชัน)\n",
    "### แนวคิดการทำ\n",
    "\n",
    "<img src=\"image_EasyBot/8.png\">"
   ]
  },
  {
   "cell_type": "markdown",
   "metadata": {},
   "source": [
    "## สิ่งที่ต้องติดตั้ง\n",
    "\n",
    " #1.ติดตั้ง python3 (แนะนำให้ติดตั้ง Anaconda https://www.anaconda.com/download/)\n",
    " #2.ติดตั้ง pip ซึ่งเป็นตัวจัดการ package สำหรับ Python ด้วยคำสั่ง\n",
    "#### python -m pip install --upgrade pip\n",
    " #3.ติดตั้ง OpenCV https://www.youtube.com/watch?v=QuxwAPuQDNo\n",
    "หรือ https://medium.com/boobeejung/how-to-install-opencv-python-55a140b4a4f2 ด้วยคำสั่ง \n",
    "#### pip install opencv-python\n",
    " #4. ติดตั้ง pyautogui ซึ่งเป็นตัวจัดการคลิกอัตโนมัติ พิมพ์อัตโนมัติ ติดตั้งด้วยคำสั่ง\n",
    "#### pip install pyautogui\n",
    " #5.รัน library ทั้งหมด\n",
    "\n",
    "\n",
    "\n",
    "```python\n",
    "from PIL import ImageGrab, ImageOps \n",
    "from matplotlib import pyplot as plt\n",
    "import pyautogui as py\n",
    "import pyautogui\n",
    "import cv2\n",
    "import numpy as np\n",
    "import random\n",
    "import time\n",
    "#from pyswip import Prolog\n",
    "```"
   ]
  },
  {
   "cell_type": "code",
   "execution_count": 3,
   "metadata": {},
   "outputs": [
    {
     "name": "stdout",
     "output_type": "stream",
     "text": [
      "Requirement already satisfied: opencv-python in c:\\users\\dong_data_sinc\\anaconda3\\lib\\site-packages (4.5.3.56)\n",
      "Requirement already satisfied: numpy>=1.17.3 in c:\\users\\dong_data_sinc\\anaconda3\\lib\\site-packages (from opencv-python) (1.20.1)\n",
      "Note: you may need to restart the kernel to use updated packages.\n"
     ]
    }
   ],
   "source": [
    "pip install opencv-python"
   ]
  },
  {
   "cell_type": "code",
   "execution_count": 4,
   "metadata": {},
   "outputs": [
    {
     "name": "stdout",
     "output_type": "stream",
     "text": [
      "Requirement already satisfied: pyautogui in c:\\users\\dong_data_sinc\\anaconda3\\lib\\site-packages (0.9.53)\n",
      "Requirement already satisfied: mouseinfo in c:\\users\\dong_data_sinc\\anaconda3\\lib\\site-packages (from pyautogui) (0.1.3)\n",
      "Requirement already satisfied: PyTweening>=1.0.1 in c:\\users\\dong_data_sinc\\anaconda3\\lib\\site-packages (from pyautogui) (1.0.4)\n",
      "Requirement already satisfied: pyscreeze>=0.1.21 in c:\\users\\dong_data_sinc\\anaconda3\\lib\\site-packages (from pyautogui) (0.1.28)\n",
      "Requirement already satisfied: pygetwindow>=0.0.5 in c:\\users\\dong_data_sinc\\anaconda3\\lib\\site-packages (from pyautogui) (0.0.9)\n",
      "Requirement already satisfied: pymsgbox in c:\\users\\dong_data_sinc\\anaconda3\\lib\\site-packages (from pyautogui) (1.0.9)\n",
      "Requirement already satisfied: pyrect in c:\\users\\dong_data_sinc\\anaconda3\\lib\\site-packages (from pygetwindow>=0.0.5->pyautogui) (0.1.4)\n",
      "Requirement already satisfied: Pillow>=6.2.1 in c:\\users\\dong_data_sinc\\anaconda3\\lib\\site-packages (from pyscreeze>=0.1.21->pyautogui) (8.2.0)\n",
      "Requirement already satisfied: pyperclip in c:\\users\\dong_data_sinc\\anaconda3\\lib\\site-packages (from mouseinfo->pyautogui) (1.8.2)\n",
      "Note: you may need to restart the kernel to use updated packages.\n"
     ]
    }
   ],
   "source": [
    "pip install pyautogui"
   ]
  },
  {
   "cell_type": "markdown",
   "metadata": {},
   "source": [
    "## ทดสอบใช้ pyautogui\n",
    "\n",
    "```python\n",
    "pyautogui.click() #ทดลองคลิกตำแหน่งที่เมาส์วางอยู่\n",
    "pyautogui.click(0,0) #ทดลองคลิกตำแหน่ง แกน X = 0 และ y = 0\n",
    "print(pyautogui.position())  #ทดลองหาตำแหน่งที่เมาส์วางอยู่ ค่าที่ได้จะเป็น (ตำแหน่ง x, ตำแหน่ง y)\n",
    "pyautogui.typewrite('hello world') #ทดลองพิมพ์อัตโนมัติ\n",
    "```\n",
    "<img src=\"image_EasyBot/10.jpg\">\n",
    "\n",
    "#เอกสารอ่านเพิ่มเติม\n",
    "https://phyblas.hinaboshi.com/20170101"
   ]
  },
  {
   "cell_type": "code",
   "execution_count": 12,
   "metadata": {},
   "outputs": [],
   "source": [
    "from PIL import ImageGrab, ImageOps \n",
    "from matplotlib import pyplot as plt\n",
    "import pyautogui as py\n",
    "import pyautogui\n",
    "import cv2\n",
    "import numpy as np\n",
    "import random\n",
    "import time"
   ]
  },
  {
   "cell_type": "code",
   "execution_count": 13,
   "metadata": {},
   "outputs": [
    {
     "name": "stdout",
     "output_type": "stream",
     "text": [
      "Point(x=1275, y=389)\n"
     ]
    }
   ],
   "source": []
  },
  {
   "cell_type": "markdown",
   "metadata": {},
   "source": [
    "## เริ่มทำบอท\n",
    "## 1.ใช้ ImageGrab ตัดภาพที่ต้องการมา โดยใช้คำสั่ง\n",
    "```python\n",
    "im=ImageGrab.grab(bbox=( x1, y1, x2, y2)) # โดยที่ x1 และ y1 คือพิกัดมุมซ้ายบน \n",
    "plt.imshow(im)                            # ส่วน x2 และ y2 คือพิกัดมุมขวาล่าง  \n",
    "plt.show()\n",
    "    ```\n",
    "    \n",
    "* __Ex01__ ผลที่ได้จากการรันคือ ? \n",
    "```python\n",
    "im=ImageGrab.grab(bbox=( 0, 0, 100, 100)) \n",
    "plt.imshow(im)                            \n",
    "plt.show()\n",
    "    ```\n",
    "### ทดลองปรับค่า x1, y1 และ x2, y2 ให้ได้ดังภาพ\n",
    "<img src=\"image_EasyBot/12.png\">\n",
    "*(รูป O หรือ X ในภาพอาจจะไม่ตรงกันก็ได้ แต่ควรมี)"
   ]
  },
  {
   "cell_type": "code",
   "execution_count": 7,
   "metadata": {},
   "outputs": [
    {
     "ename": "NameError",
     "evalue": "name 'pyautogui' is not defined",
     "output_type": "error",
     "traceback": [
      "\u001b[1;31m---------------------------------------------------------------------------\u001b[0m",
      "\u001b[1;31mNameError\u001b[0m                                 Traceback (most recent call last)",
      "\u001b[1;32m<ipython-input-7-dff7423ee253>\u001b[0m in \u001b[0;36m<module>\u001b[1;34m\u001b[0m\n\u001b[1;32m----> 1\u001b[1;33m \u001b[0mprint\u001b[0m\u001b[1;33m(\u001b[0m\u001b[0mpyautogui\u001b[0m\u001b[1;33m.\u001b[0m\u001b[0mposition\u001b[0m\u001b[1;33m(\u001b[0m\u001b[1;33m)\u001b[0m\u001b[1;33m)\u001b[0m\u001b[1;33m\u001b[0m\u001b[1;33m\u001b[0m\u001b[0m\n\u001b[0m",
      "\u001b[1;31mNameError\u001b[0m: name 'pyautogui' is not defined"
     ]
    }
   ],
   "source": [
    "print(pyautogui.position())"
   ]
  },
  {
   "cell_type": "code",
   "execution_count": null,
   "metadata": {},
   "outputs": [],
   "source": []
  },
  {
   "cell_type": "markdown",
   "metadata": {},
   "source": [
    "## 2.ตัดแต่ละช่องออกมา\n",
    "ให้หาจุดกึ่งกลางของแต่ละช่อง จากนั้นให้ทำการหาพื้นที่ที่ต้องการตัดออกมา เช่น ต้องการตัดช่องที่ 3 ซึ่งมีจุดกึ่งกลางคือ (216,40) จากน้้นทำการตัดออกมาโดยการหาจุด x1, y1 และ x2, y2\n",
    "\n",
    "```python\n",
    "img_rgb = im.crop(box=( 216-30, 40-30, 216+30, 40+30))\n",
    "plt.imshow(img_rgb)\n",
    "plt.title((x,y))\n",
    "plt.show()\n",
    "\n",
    "```\n",
    "\n",
    "<img src=\"image_EasyBot/13.png\">\n",
    "\n",
    "## โดยผลที่ได้จากการตัดภาพคือ\n",
    "<img src=\"image_EasyBot/3.png\">\n",
    "\n",
    "## จากนั้นทำซ้ำให้ครบ 9 ช่อง\n"
   ]
  },
  {
   "cell_type": "code",
   "execution_count": null,
   "metadata": {
    "collapsed": true
   },
   "outputs": [],
   "source": []
  },
  {
   "cell_type": "markdown",
   "metadata": {},
   "source": [
    "## 3.แปลงสีรูปจาก RGB (หลายสี) เป็น Gray (สีเทา)\n",
    "#### ทดลองด้วยโค้ดข้างล่างนี้\n",
    "```python\n",
    "image_data = np.asarray(img_rgb) #แปลงรูปให้อยู่ในข้อมูลแบบอะเรย์\n",
    "img_gray = cv2.cvtColor(image_data, cv2.COLOR_BGR2GRAY) #แปลง RGB ให้เป็น Gray\n",
    "plt.imshow(img_gray)\n",
    "plt.title((x,y))\n",
    "plt.show()\n",
    "```\n",
    "## โดยผลที่ได้จากการรัน คือ\n",
    "<img src=\"image_EasyBot/4.png\">\n",
    "\n",
    "## จากนั้นทำซ้ำให้ครบ 9 ช่อง\n"
   ]
  },
  {
   "cell_type": "code",
   "execution_count": null,
   "metadata": {},
   "outputs": [],
   "source": []
  },
  {
   "cell_type": "markdown",
   "metadata": {},
   "source": [
    "## 4.หาค่าเฉลี่ยของแต่ละภาพแล้วสังเกตข้อแตกต่างของภาพที่มี O หรือ X หรือ ไม่มี\n",
    "#### ทดลองด้วยโค้ดข้างล่างนี้\n",
    "```python\n",
    "mpic = np.mean(img_gray, axis=(0, 1))\n",
    "print( mpic )\n",
    "ผลที่ได้คือ\n",
    "#144.8516666\n",
    "```\n",
    "## จากนั้นทำซ้ำให้ครบ 9 ช่อง\n",
    "#### ผลที่ได้คือ\n",
    "<img src=\"image_EasyBot/5.png\">\n",
    "\n",
    "## จากการสังเกตจะได้ว่า\n",
    "```python\n",
    "if i >= 140 and i<=150:\n",
    "    print(\"X \")\n",
    "elif i>=180 and i<=190:\n",
    "    print(\"O \")\n",
    "else :\n",
    "    print(\"_ \")\n",
    "```    \n",
    "#### ผลที่ได้จากการตรวจสอบด้วย if-else\n",
    "<img src=\"image_EasyBot/7.png\">\n",
    "\n",
    "#### จากนั้นให้บอทสุ่มคลิกค่าที่ไม่ใช่ O หรือ X แต่เป็น _\n",
    "#### ด้วยโค้ดตัวอย่างบางส่วนข้างล่างนี้\n",
    "```python\n",
    "board = [1,2,6,8,9]          #สมมติมีช่องที่ว่าง\n",
    "print(random.choice(board))  #สุ่มช่องว่างจาก board\n",
    "\n",
    "py.click( x+450, y+490 )    #x และ y คือค่าจุดกึ่งกลางของแต่ละช่อง\n",
    "                            #450 และ 490 คือค่า x1 และ y1 ที่ได้จากข้อ 1 แต่ละเครื่องจะไม่เหมือนกัน\n",
    "```    "
   ]
  },
  {
   "cell_type": "code",
   "execution_count": null,
   "metadata": {},
   "outputs": [],
   "source": []
  },
  {
   "cell_type": "code",
   "execution_count": 14,
   "metadata": {},
   "outputs": [],
   "source": [
    "pyautogui.FAILSAFE = False"
   ]
  },
  {
   "cell_type": "code",
   "execution_count": 59,
   "metadata": {},
   "outputs": [
    {
     "name": "stdout",
     "output_type": "stream",
     "text": [
      "Point(x=353, y=624)\n"
     ]
    },
    {
     "data": {
      "text/plain": [
       "9"
      ]
     },
     "execution_count": 59,
     "metadata": {},
     "output_type": "execute_result"
    }
   ],
   "source": [
    "print(pyautogui.position())\n",
    "# x=315, y=495\n",
    "# position_x\n",
    "1#x=354,538\n",
    "2#x=442,538\n",
    "3#x=526,539\n",
    "4#x=353,624\n",
    "5#x=354,624\n",
    "6#x=440,628\n",
    "7#x=528,625\n",
    "8#x=439,712\n",
    "9#x=529,714\n",
    "\n",
    "# Position O\n",
    "1#x=353,538\n",
    "2#x=442,537\n",
    "3#x=529,538\n",
    "4#x=352,626\n",
    "5#x=441,625\n",
    "6#x=531,627\n",
    "7#x=354,711\n",
    "8#x=441,712\n",
    "9#x=441,712"
   ]
  },
  {
   "cell_type": "code",
   "execution_count": 38,
   "metadata": {},
   "outputs": [
    {
     "data": {
      "image/png": "[encoded data removed]",
      "text/plain": [
       "<Figure size 432x288 with 1 Axes>"
      ]
     },
     "metadata": {
      "needs_background": "light"
     },
     "output_type": "display_data"
    }
   ],
   "source": [
    "im=ImageGrab.grab(bbox=( 320, 500, 565,750)) \n",
    "plt.imshow(im)                            \n",
    "plt.show()"
   ]
  },
  {
   "cell_type": "code",
   "execution_count": 63,
   "metadata": {},
   "outputs": [
    {
     "ename": "KeyboardInterrupt",
     "evalue": "",
     "output_type": "error",
     "traceback": [
      "\u001b[1;31m---------------------------------------------------------------------------\u001b[0m",
      "\u001b[1;31mKeyboardInterrupt\u001b[0m                         Traceback (most recent call last)",
      "\u001b[1;32m<ipython-input-63-a28b4620867c>\u001b[0m in \u001b[0;36m<module>\u001b[1;34m\u001b[0m\n\u001b[0;32m     33\u001b[0m     \u001b[0mpy\u001b[0m\u001b[1;33m.\u001b[0m\u001b[0mclick\u001b[0m\u001b[1;33m(\u001b[0m\u001b[0mcenter_Position_O\u001b[0m\u001b[1;33m[\u001b[0m\u001b[0mXO\u001b[0m\u001b[1;33m]\u001b[0m\u001b[1;33m[\u001b[0m\u001b[1;36m0\u001b[0m\u001b[1;33m]\u001b[0m\u001b[1;33m,\u001b[0m \u001b[0mcenter_Position_O\u001b[0m\u001b[1;33m[\u001b[0m\u001b[0mXO\u001b[0m\u001b[1;33m]\u001b[0m\u001b[1;33m[\u001b[0m\u001b[1;36m1\u001b[0m\u001b[1;33m]\u001b[0m\u001b[1;33m)\u001b[0m\u001b[1;33m\u001b[0m\u001b[1;33m\u001b[0m\u001b[0m\n\u001b[0;32m     34\u001b[0m     \u001b[0mboard\u001b[0m\u001b[1;33m.\u001b[0m\u001b[0mremove\u001b[0m\u001b[1;33m(\u001b[0m\u001b[0mXO\u001b[0m\u001b[1;33m)\u001b[0m\u001b[1;33m\u001b[0m\u001b[1;33m\u001b[0m\u001b[0m\n\u001b[1;32m---> 35\u001b[1;33m     \u001b[0mtime\u001b[0m\u001b[1;33m.\u001b[0m \u001b[0msleep\u001b[0m\u001b[1;33m(\u001b[0m\u001b[1;36m2\u001b[0m\u001b[1;33m)\u001b[0m\u001b[1;33m\u001b[0m\u001b[1;33m\u001b[0m\u001b[0m\n\u001b[0m",
      "\u001b[1;31mKeyboardInterrupt\u001b[0m: "
     ]
    }
   ],
   "source": [
    "from PIL import ImageGrab, ImageOps \n",
    "from matplotlib import pyplot as plt\n",
    "import pyautogui as py\n",
    "import pyautogui\n",
    "import cv2\n",
    "import numpy as np\n",
    "import random\n",
    "import time\n",
    "py.click(417,767)\n",
    "time. sleep(1)\n",
    "py.click(417,767)\n",
    "while True:\n",
    "    im=ImageGrab.grab(bbox=( 320, 500, 565,750)) \n",
    "    center_Position_X = [(354,538),(442,538),(526,539),(353,624),(442,538),(440,628),(354,711),(439,712),(529,714)]\n",
    "    center_Position_O = [(353,538),(442,537),(529,538),(352,626),(441,625),(531,627),(354,711),(441,712),(441,712)]\n",
    "    mpic = []\n",
    "    board = []\n",
    "    x = 0\n",
    "    for i in center:\n",
    "        img_rgb = ImageGrab.grab(bbox=(i[0]-40,i[1]-40,i[0]+40,i[1]+40))\n",
    "        image_data = np.asarray(img_rgb)\n",
    "        img_gray = cv2.cvtColor(image_data, cv2.COLOR_BGR2GRAY)\n",
    "        mpic = np.mean(img_gray, axis=(0, 1))\n",
    "        if mpic >= 140 and mpic<= 150:\n",
    "            pass\n",
    "        elif mpic >= 170 and mpic <=190:\n",
    "            pass\n",
    "        else :\n",
    "            board.append(x)         \n",
    "        x += 1\n",
    "    XO = random.choice (board) \n",
    "    py.click(center_Position_X[XO][0], center_Position_X[XO][1])\n",
    "    py.click(center_Position_O[XO][0], center_Position_O[XO][1])\n",
    "    board.remove(XO)\n",
    "    time. sleep(2)"
   ]
  },
  {
   "cell_type": "code",
   "execution_count": null,
   "metadata": {},
   "outputs": [],
   "source": []
  }
 ],
 "metadata": {
  "kernelspec": {
   "display_name": "Python 3",
   "language": "python",
   "name": "python3"
  },
  "language_info": {
   "codemirror_mode": {
    "name": "ipython",
    "version": 3
   },
   "file_extension": ".py",
   "mimetype": "text/x-python",
   "name": "python",
   "nbconvert_exporter": "python",
   "pygments_lexer": "ipython3",
   "version": "3.8.8"
  }
 },
 "nbformat": 4,
 "nbformat_minor": 2
}
